{
 "cells": [
  {
   "cell_type": "code",
   "execution_count": 1,
   "metadata": {},
   "outputs": [],
   "source": [
    "import os\n",
    "from dotenv import load_dotenv, find_dotenv\n",
    "\n",
    "_ = load_dotenv(find_dotenv())\n",
    "os.environ[\"OPENAI_API_KEY\"] = os.getenv(\"OPENAI_API_KEY\")\n",
    "os.environ[\"SERPAPI_API_KEY\"] = os.getenv(\"SERPAPI_API_KEY\")"
   ]
  },
  {
   "cell_type": "code",
   "execution_count": 2,
   "metadata": {},
   "outputs": [
    {
     "name": "stderr",
     "output_type": "stream",
     "text": [
      "/Users/toubatbrian/Desktop/langchain/langchain/agents/load_tools.py:405: UserWarning: tool name `requests` is deprecated - please use `requests_all` or specify the requests method\n",
      "  warnings.warn(\n"
     ]
    }
   ],
   "source": [
    "from langchain import LLMMathChain, SerpAPIWrapper\n",
    "from langchain.chat_models import ChatOpenAI\n",
    "from langchain.tools import Tool\n",
    "from langchain.agents import load_tools\n",
    "from pydantic import BaseModel, Field\n",
    "\n",
    "llm = ChatOpenAI(temperature=0)\n",
    "\n",
    "search = SerpAPIWrapper()\n",
    "llm_math_chain = LLMMathChain.from_llm(llm=llm)\n",
    "\n",
    "\n",
    "class CalculatorInput(BaseModel):\n",
    "    question: str = Field(description=\"The math question to answer.\")\n",
    "\n",
    "\n",
    "tools = [\n",
    "    Tool.from_function(\n",
    "        func=search.run,\n",
    "        name = \"Search\",\n",
    "        description=\"useful for when you need to answer questions about current events\"\n",
    "        # coroutine= ... <- you can specify an async method if desired as well\n",
    "    ),\n",
    "    Tool.from_function(\n",
    "        func=llm_math_chain.run,\n",
    "        name=\"Calculator\",\n",
    "        description=\"useful for when you need to answer questions about math\",\n",
    "        args_schema=CalculatorInput\n",
    "        # coroutine= ... <- you can specify an async method if desired as well\n",
    "    ),\n",
    "    *load_tools([\n",
    "        \"python_repl\",\n",
    "        \"requests\",\n",
    "        \"terminal\",\n",
    "    ])\n",
    "]"
   ]
  },
  {
   "cell_type": "code",
   "execution_count": 3,
   "metadata": {},
   "outputs": [],
   "source": [
    "from langchain import LLMChain\n",
    "from langchain.chat_models import ChatOpenAI\n",
    "from langchain.experimental.autoflow.schema import Schema, FlowSchemaOutputParser, StringSchema\n",
    "from langchain import PromptTemplate\n",
    "from langchain.experimental.autoflow.prompts import TASK_BREAKDOWN\n",
    "\n",
    "schema = Schema.object(\n",
    "    solvability_thought=Schema.string(\"The thought process you used to determine if the task is solvable\"),\n",
    "    solvable=Schema.boolean(\"Whether the task is solvable\"),\n",
    "    plan=Schema.string(\"- short bulleted\\n- list that conveys\\n- long-term plan on how to solve main task step by step\"),\n",
    "    reflection=Schema.string(\"Your reflection on the plan above, any advice to improve\"),\n",
    "    plan_score=Schema.number(\"From 1 to 10, score your plan from 1 (completely irrelavant and must improve) to 10 (perfect plan, no improvement needed\")\n",
    ")\n",
    "\n",
    "llm = ChatOpenAI(temperature=0, model=\"gpt-4\")\n",
    "output_parser = FlowSchemaOutputParser(flow_schema=schema)\n",
    "\n",
    "prompt = PromptTemplate.from_template(\n",
    "    TASK_BREAKDOWN,\n",
    "    template_format=\"jinja2\",\n",
    "    output_parser=output_parser\n",
    ")\n",
    "\n",
    "llm_chain = LLMChain(\n",
    "    llm=llm, \n",
    "    prompt=prompt, \n",
    "    verbose=True\n",
    ")"
   ]
  },
  {
   "cell_type": "code",
   "execution_count": 4,
   "metadata": {},
   "outputs": [
    {
     "name": "stdout",
     "output_type": "stream",
     "text": [
      "\n",
      "\n",
      "\u001b[1m> Entering new LLMChain chain...\u001b[0m\n",
      "Prompt after formatting:\n",
      "\u001b[32;1m\u001b[1;3mYou are acted as a task breakdown expert. Your job is to breakdown a task into a list of subtasks that potentially can be solved by existing tools.\n",
      "Subtasks form a dependency flow graph that solve the main task, so that one subtask may depends on the output of other subtasks.\n",
      "\n",
      "[TOOL_DESCRIPTION]\n",
      "You have access to a set of tools with their description:\n",
      "\n",
      "- Search: useful for when you need to answer questions about current events\n",
      "    - input_schema: {'tool_input': {'type': 'string'}}\n",
      "    - output_schema: { \"result\": string }\n",
      "\n",
      "- Calculator: useful for when you need to answer questions about math\n",
      "    - input_schema: {'question': {'title': 'Question', 'description': 'The math question to answer.', 'type': 'string'}}\n",
      "    - output_schema: { \"result\": string }\n",
      "\n",
      "- Python REPL: A Python shell. Use this to execute python commands. Input should be a valid python command. If you want to see the output of a value, you should print it out with `print(...)`.\n",
      "    - input_schema: {'query': {'title': 'Query', 'type': 'string'}}\n",
      "    - output_schema: { \"result\": string }\n",
      "\n",
      "- requests_get: A portal to the internet. Use this when you need to get specific content from a website. Input should be a  url (i.e. https://www.google.com). The output will be the text response of the GET request.\n",
      "    - input_schema: {'url': {'title': 'Url', 'type': 'string'}}\n",
      "    - output_schema: { \"result\": string }\n",
      "\n",
      "- terminal: Run shell commands on this MacOS machine.\n",
      "    - input_schema: {'commands': {'title': 'Commands', 'description': 'List of shell commands to run. Deserialized using json.loads', 'anyOf': [{'type': 'string'}, {'type': 'array', 'items': {'type': 'string'}}]}}\n",
      "    - output_schema: { \"result\": string }\n",
      "\n",
      "\n",
      "[TASK_DESCRIPTION]\n",
      "The task you are working on is:\n",
      "Based on input topic, search for relevant information, calculate the length of the information, and write the <info_string>:<char_count> into a file, output file location\n",
      "\n",
      "[INPUT_CONTEXT]\n",
      "Here is the input context given to you (necessary for solving the main task):\n",
      "{\n",
      "  \"topic\": string, (selected topic)\n",
      "}\n",
      "\n",
      "[OUTPUT_SCHEMA]\n",
      "Here is the output schema of the task:\n",
      "{\n",
      "  \"location\": string, (file location)\n",
      "}\n",
      "\n",
      "[PREVIOUS_ATTEMPTS]\n",
      "Here are the previous attempts of breaking down the task and the critiques of each attempt:\n",
      "\n",
      "No previous attempts.\n",
      "\n",
      "\n",
      "You should respond in JSON format:\n",
      "\n",
      "```json\n",
      "{\n",
      "  \"solvability_thought\": string, (The thought process you used to determine if the task is solvable)\n",
      "  \"solvable\": boolean, (Whether the task is solvable)\n",
      "  \"plan\": string, (- short bulleted\n",
      "- list that conveys\n",
      "- long-term plan on how to solve main task step by step)\n",
      "  \"reflection\": string, (Your reflection on the plan above, any advice to improve)\n",
      "  \"plan_score\": number, (From 1 to 10, score your plan from 1 (completely irrelavant and must improve) to 10 (perfect plan, no improvement needed)\n",
      "}\n",
      "```\n",
      "\n",
      "Do not wrap ```json ``` around the json output, you should only output the json object itself. Ensure the response can be parsed by Python `json.loads`.\n",
      "\u001b[0m\n",
      "\n",
      "\u001b[1m> Finished chain.\u001b[0m\n"
     ]
    },
    {
     "ename": "OutputParserException",
     "evalue": "Got invalid JSON object. Error: Unterminated string starting at: line 1 column 575 (char 574)",
     "output_type": "error",
     "traceback": [
      "\u001b[0;31m---------------------------------------------------------------------------\u001b[0m",
      "\u001b[0;31mJSONDecodeError\u001b[0m                           Traceback (most recent call last)",
      "File \u001b[0;32m~/Desktop/langchain/langchain/experimental/autoflow/schema/parser.py:43\u001b[0m, in \u001b[0;36mFlowSchemaOutputParser.parse\u001b[0;34m(self, text)\u001b[0m\n\u001b[1;32m     42\u001b[0m \u001b[39mtry\u001b[39;00m:\n\u001b[0;32m---> 43\u001b[0m     parsed \u001b[39m=\u001b[39m json\u001b[39m.\u001b[39;49mloads(text)\n\u001b[1;32m     44\u001b[0m \u001b[39mexcept\u001b[39;00m json\u001b[39m.\u001b[39mJSONDecodeError \u001b[39mas\u001b[39;00m e:\n",
      "File \u001b[0;32m/Library/Frameworks/Python.framework/Versions/3.10/lib/python3.10/json/__init__.py:346\u001b[0m, in \u001b[0;36mloads\u001b[0;34m(s, cls, object_hook, parse_float, parse_int, parse_constant, object_pairs_hook, **kw)\u001b[0m\n\u001b[1;32m    343\u001b[0m \u001b[39mif\u001b[39;00m (\u001b[39mcls\u001b[39m \u001b[39mis\u001b[39;00m \u001b[39mNone\u001b[39;00m \u001b[39mand\u001b[39;00m object_hook \u001b[39mis\u001b[39;00m \u001b[39mNone\u001b[39;00m \u001b[39mand\u001b[39;00m\n\u001b[1;32m    344\u001b[0m         parse_int \u001b[39mis\u001b[39;00m \u001b[39mNone\u001b[39;00m \u001b[39mand\u001b[39;00m parse_float \u001b[39mis\u001b[39;00m \u001b[39mNone\u001b[39;00m \u001b[39mand\u001b[39;00m\n\u001b[1;32m    345\u001b[0m         parse_constant \u001b[39mis\u001b[39;00m \u001b[39mNone\u001b[39;00m \u001b[39mand\u001b[39;00m object_pairs_hook \u001b[39mis\u001b[39;00m \u001b[39mNone\u001b[39;00m \u001b[39mand\u001b[39;00m \u001b[39mnot\u001b[39;00m kw):\n\u001b[0;32m--> 346\u001b[0m     \u001b[39mreturn\u001b[39;00m _default_decoder\u001b[39m.\u001b[39;49mdecode(s)\n\u001b[1;32m    347\u001b[0m \u001b[39mif\u001b[39;00m \u001b[39mcls\u001b[39m \u001b[39mis\u001b[39;00m \u001b[39mNone\u001b[39;00m:\n",
      "File \u001b[0;32m/Library/Frameworks/Python.framework/Versions/3.10/lib/python3.10/json/decoder.py:337\u001b[0m, in \u001b[0;36mJSONDecoder.decode\u001b[0;34m(self, s, _w)\u001b[0m\n\u001b[1;32m    333\u001b[0m \u001b[39m\"\"\"Return the Python representation of ``s`` (a ``str`` instance\u001b[39;00m\n\u001b[1;32m    334\u001b[0m \u001b[39mcontaining a JSON document).\u001b[39;00m\n\u001b[1;32m    335\u001b[0m \n\u001b[1;32m    336\u001b[0m \u001b[39m\"\"\"\u001b[39;00m\n\u001b[0;32m--> 337\u001b[0m obj, end \u001b[39m=\u001b[39m \u001b[39mself\u001b[39;49m\u001b[39m.\u001b[39;49mraw_decode(s, idx\u001b[39m=\u001b[39;49m_w(s, \u001b[39m0\u001b[39;49m)\u001b[39m.\u001b[39;49mend())\n\u001b[1;32m    338\u001b[0m end \u001b[39m=\u001b[39m _w(s, end)\u001b[39m.\u001b[39mend()\n",
      "File \u001b[0;32m/Library/Frameworks/Python.framework/Versions/3.10/lib/python3.10/json/decoder.py:353\u001b[0m, in \u001b[0;36mJSONDecoder.raw_decode\u001b[0;34m(self, s, idx)\u001b[0m\n\u001b[1;32m    352\u001b[0m \u001b[39mtry\u001b[39;00m:\n\u001b[0;32m--> 353\u001b[0m     obj, end \u001b[39m=\u001b[39m \u001b[39mself\u001b[39;49m\u001b[39m.\u001b[39;49mscan_once(s, idx)\n\u001b[1;32m    354\u001b[0m \u001b[39mexcept\u001b[39;00m \u001b[39mStopIteration\u001b[39;00m \u001b[39mas\u001b[39;00m err:\n",
      "\u001b[0;31mJSONDecodeError\u001b[0m: Expecting ',' delimiter: line 1 column 662 (char 661)",
      "\nDuring handling of the above exception, another exception occurred:\n",
      "\u001b[0;31mJSONDecodeError\u001b[0m                           Traceback (most recent call last)",
      "File \u001b[0;32m~/Desktop/langchain/langchain/experimental/autoflow/schema/parser.py:43\u001b[0m, in \u001b[0;36mFlowSchemaOutputParser.parse\u001b[0;34m(self, text)\u001b[0m\n\u001b[1;32m     42\u001b[0m \u001b[39mtry\u001b[39;00m:\n\u001b[0;32m---> 43\u001b[0m     parsed \u001b[39m=\u001b[39m json\u001b[39m.\u001b[39;49mloads(text)\n\u001b[1;32m     44\u001b[0m \u001b[39mexcept\u001b[39;00m json\u001b[39m.\u001b[39mJSONDecodeError \u001b[39mas\u001b[39;00m e:\n",
      "File \u001b[0;32m/Library/Frameworks/Python.framework/Versions/3.10/lib/python3.10/json/__init__.py:346\u001b[0m, in \u001b[0;36mloads\u001b[0;34m(s, cls, object_hook, parse_float, parse_int, parse_constant, object_pairs_hook, **kw)\u001b[0m\n\u001b[1;32m    343\u001b[0m \u001b[39mif\u001b[39;00m (\u001b[39mcls\u001b[39m \u001b[39mis\u001b[39;00m \u001b[39mNone\u001b[39;00m \u001b[39mand\u001b[39;00m object_hook \u001b[39mis\u001b[39;00m \u001b[39mNone\u001b[39;00m \u001b[39mand\u001b[39;00m\n\u001b[1;32m    344\u001b[0m         parse_int \u001b[39mis\u001b[39;00m \u001b[39mNone\u001b[39;00m \u001b[39mand\u001b[39;00m parse_float \u001b[39mis\u001b[39;00m \u001b[39mNone\u001b[39;00m \u001b[39mand\u001b[39;00m\n\u001b[1;32m    345\u001b[0m         parse_constant \u001b[39mis\u001b[39;00m \u001b[39mNone\u001b[39;00m \u001b[39mand\u001b[39;00m object_pairs_hook \u001b[39mis\u001b[39;00m \u001b[39mNone\u001b[39;00m \u001b[39mand\u001b[39;00m \u001b[39mnot\u001b[39;00m kw):\n\u001b[0;32m--> 346\u001b[0m     \u001b[39mreturn\u001b[39;00m _default_decoder\u001b[39m.\u001b[39;49mdecode(s)\n\u001b[1;32m    347\u001b[0m \u001b[39mif\u001b[39;00m \u001b[39mcls\u001b[39m \u001b[39mis\u001b[39;00m \u001b[39mNone\u001b[39;00m:\n",
      "File \u001b[0;32m/Library/Frameworks/Python.framework/Versions/3.10/lib/python3.10/json/decoder.py:337\u001b[0m, in \u001b[0;36mJSONDecoder.decode\u001b[0;34m(self, s, _w)\u001b[0m\n\u001b[1;32m    333\u001b[0m \u001b[39m\"\"\"Return the Python representation of ``s`` (a ``str`` instance\u001b[39;00m\n\u001b[1;32m    334\u001b[0m \u001b[39mcontaining a JSON document).\u001b[39;00m\n\u001b[1;32m    335\u001b[0m \n\u001b[1;32m    336\u001b[0m \u001b[39m\"\"\"\u001b[39;00m\n\u001b[0;32m--> 337\u001b[0m obj, end \u001b[39m=\u001b[39m \u001b[39mself\u001b[39;49m\u001b[39m.\u001b[39;49mraw_decode(s, idx\u001b[39m=\u001b[39;49m_w(s, \u001b[39m0\u001b[39;49m)\u001b[39m.\u001b[39;49mend())\n\u001b[1;32m    338\u001b[0m end \u001b[39m=\u001b[39m _w(s, end)\u001b[39m.\u001b[39mend()\n",
      "File \u001b[0;32m/Library/Frameworks/Python.framework/Versions/3.10/lib/python3.10/json/decoder.py:353\u001b[0m, in \u001b[0;36mJSONDecoder.raw_decode\u001b[0;34m(self, s, idx)\u001b[0m\n\u001b[1;32m    352\u001b[0m \u001b[39mtry\u001b[39;00m:\n\u001b[0;32m--> 353\u001b[0m     obj, end \u001b[39m=\u001b[39m \u001b[39mself\u001b[39;49m\u001b[39m.\u001b[39;49mscan_once(s, idx)\n\u001b[1;32m    354\u001b[0m \u001b[39mexcept\u001b[39;00m \u001b[39mStopIteration\u001b[39;00m \u001b[39mas\u001b[39;00m err:\n",
      "\u001b[0;31mJSONDecodeError\u001b[0m: Expecting ',' delimiter: line 1 column 823 (char 822)",
      "\nDuring handling of the above exception, another exception occurred:\n",
      "\u001b[0;31mJSONDecodeError\u001b[0m                           Traceback (most recent call last)",
      "File \u001b[0;32m~/Desktop/langchain/langchain/experimental/autoflow/schema/parser.py:43\u001b[0m, in \u001b[0;36mFlowSchemaOutputParser.parse\u001b[0;34m(self, text)\u001b[0m\n\u001b[1;32m     42\u001b[0m \u001b[39mtry\u001b[39;00m:\n\u001b[0;32m---> 43\u001b[0m     parsed \u001b[39m=\u001b[39m json\u001b[39m.\u001b[39;49mloads(text)\n\u001b[1;32m     44\u001b[0m \u001b[39mexcept\u001b[39;00m json\u001b[39m.\u001b[39mJSONDecodeError \u001b[39mas\u001b[39;00m e:\n",
      "File \u001b[0;32m/Library/Frameworks/Python.framework/Versions/3.10/lib/python3.10/json/__init__.py:346\u001b[0m, in \u001b[0;36mloads\u001b[0;34m(s, cls, object_hook, parse_float, parse_int, parse_constant, object_pairs_hook, **kw)\u001b[0m\n\u001b[1;32m    343\u001b[0m \u001b[39mif\u001b[39;00m (\u001b[39mcls\u001b[39m \u001b[39mis\u001b[39;00m \u001b[39mNone\u001b[39;00m \u001b[39mand\u001b[39;00m object_hook \u001b[39mis\u001b[39;00m \u001b[39mNone\u001b[39;00m \u001b[39mand\u001b[39;00m\n\u001b[1;32m    344\u001b[0m         parse_int \u001b[39mis\u001b[39;00m \u001b[39mNone\u001b[39;00m \u001b[39mand\u001b[39;00m parse_float \u001b[39mis\u001b[39;00m \u001b[39mNone\u001b[39;00m \u001b[39mand\u001b[39;00m\n\u001b[1;32m    345\u001b[0m         parse_constant \u001b[39mis\u001b[39;00m \u001b[39mNone\u001b[39;00m \u001b[39mand\u001b[39;00m object_pairs_hook \u001b[39mis\u001b[39;00m \u001b[39mNone\u001b[39;00m \u001b[39mand\u001b[39;00m \u001b[39mnot\u001b[39;00m kw):\n\u001b[0;32m--> 346\u001b[0m     \u001b[39mreturn\u001b[39;00m _default_decoder\u001b[39m.\u001b[39;49mdecode(s)\n\u001b[1;32m    347\u001b[0m \u001b[39mif\u001b[39;00m \u001b[39mcls\u001b[39m \u001b[39mis\u001b[39;00m \u001b[39mNone\u001b[39;00m:\n",
      "File \u001b[0;32m/Library/Frameworks/Python.framework/Versions/3.10/lib/python3.10/json/decoder.py:337\u001b[0m, in \u001b[0;36mJSONDecoder.decode\u001b[0;34m(self, s, _w)\u001b[0m\n\u001b[1;32m    333\u001b[0m \u001b[39m\"\"\"Return the Python representation of ``s`` (a ``str`` instance\u001b[39;00m\n\u001b[1;32m    334\u001b[0m \u001b[39mcontaining a JSON document).\u001b[39;00m\n\u001b[1;32m    335\u001b[0m \n\u001b[1;32m    336\u001b[0m \u001b[39m\"\"\"\u001b[39;00m\n\u001b[0;32m--> 337\u001b[0m obj, end \u001b[39m=\u001b[39m \u001b[39mself\u001b[39;49m\u001b[39m.\u001b[39;49mraw_decode(s, idx\u001b[39m=\u001b[39;49m_w(s, \u001b[39m0\u001b[39;49m)\u001b[39m.\u001b[39;49mend())\n\u001b[1;32m    338\u001b[0m end \u001b[39m=\u001b[39m _w(s, end)\u001b[39m.\u001b[39mend()\n",
      "File \u001b[0;32m/Library/Frameworks/Python.framework/Versions/3.10/lib/python3.10/json/decoder.py:353\u001b[0m, in \u001b[0;36mJSONDecoder.raw_decode\u001b[0;34m(self, s, idx)\u001b[0m\n\u001b[1;32m    352\u001b[0m \u001b[39mtry\u001b[39;00m:\n\u001b[0;32m--> 353\u001b[0m     obj, end \u001b[39m=\u001b[39m \u001b[39mself\u001b[39;49m\u001b[39m.\u001b[39;49mscan_once(s, idx)\n\u001b[1;32m    354\u001b[0m \u001b[39mexcept\u001b[39;00m \u001b[39mStopIteration\u001b[39;00m \u001b[39mas\u001b[39;00m err:\n",
      "\u001b[0;31mJSONDecodeError\u001b[0m: Unterminated string starting at: line 1 column 575 (char 574)",
      "\nDuring handling of the above exception, another exception occurred:\n",
      "\u001b[0;31mOutputParserException\u001b[0m                     Traceback (most recent call last)",
      "\u001b[1;32m/Users/toubatbrian/Desktop/langchain/langchain/experimental/client/autoflow.ipynb Cell 4\u001b[0m in \u001b[0;36m3\n\u001b[1;32m      <a href='vscode-notebook-cell:/Users/toubatbrian/Desktop/langchain/langchain/experimental/client/autoflow.ipynb#W2sZmlsZQ%3D%3D?line=0'>1</a>\u001b[0m attempt_history \u001b[39m=\u001b[39m []\n\u001b[1;32m      <a href='vscode-notebook-cell:/Users/toubatbrian/Desktop/langchain/langchain/experimental/client/autoflow.ipynb#W2sZmlsZQ%3D%3D?line=1'>2</a>\u001b[0m \u001b[39mwhile\u001b[39;00m \u001b[39mTrue\u001b[39;00m:\n\u001b[0;32m----> <a href='vscode-notebook-cell:/Users/toubatbrian/Desktop/langchain/langchain/experimental/client/autoflow.ipynb#W2sZmlsZQ%3D%3D?line=2'>3</a>\u001b[0m     result \u001b[39m=\u001b[39m llm_chain\u001b[39m.\u001b[39;49mpredict_and_parse(\n\u001b[1;32m      <a href='vscode-notebook-cell:/Users/toubatbrian/Desktop/langchain/langchain/experimental/client/autoflow.ipynb#W2sZmlsZQ%3D%3D?line=3'>4</a>\u001b[0m         task\u001b[39m=\u001b[39;49m\u001b[39m\"\u001b[39;49m\u001b[39mBased on input topic, search for relevant information, calculate the length of the information, and write the <info_string>:<char_count> into a file, output file location\u001b[39;49m\u001b[39m\"\u001b[39;49m,\n\u001b[1;32m      <a href='vscode-notebook-cell:/Users/toubatbrian/Desktop/langchain/langchain/experimental/client/autoflow.ipynb#W2sZmlsZQ%3D%3D?line=4'>5</a>\u001b[0m         input_schema\u001b[39m=\u001b[39;49mSchema\u001b[39m.\u001b[39;49mobject(\n\u001b[1;32m      <a href='vscode-notebook-cell:/Users/toubatbrian/Desktop/langchain/langchain/experimental/client/autoflow.ipynb#W2sZmlsZQ%3D%3D?line=5'>6</a>\u001b[0m             topic\u001b[39m=\u001b[39;49mSchema\u001b[39m.\u001b[39;49mstring(\u001b[39m\"\u001b[39;49m\u001b[39mselected topic\u001b[39;49m\u001b[39m\"\u001b[39;49m)\n\u001b[1;32m      <a href='vscode-notebook-cell:/Users/toubatbrian/Desktop/langchain/langchain/experimental/client/autoflow.ipynb#W2sZmlsZQ%3D%3D?line=6'>7</a>\u001b[0m         ),\n\u001b[1;32m      <a href='vscode-notebook-cell:/Users/toubatbrian/Desktop/langchain/langchain/experimental/client/autoflow.ipynb#W2sZmlsZQ%3D%3D?line=7'>8</a>\u001b[0m         output_schema\u001b[39m=\u001b[39;49mSchema\u001b[39m.\u001b[39;49mobject(\n\u001b[1;32m      <a href='vscode-notebook-cell:/Users/toubatbrian/Desktop/langchain/langchain/experimental/client/autoflow.ipynb#W2sZmlsZQ%3D%3D?line=8'>9</a>\u001b[0m             location\u001b[39m=\u001b[39;49mSchema\u001b[39m.\u001b[39;49mstring(\u001b[39m\"\u001b[39;49m\u001b[39mfile location\u001b[39;49m\u001b[39m\"\u001b[39;49m)\n\u001b[1;32m     <a href='vscode-notebook-cell:/Users/toubatbrian/Desktop/langchain/langchain/experimental/client/autoflow.ipynb#W2sZmlsZQ%3D%3D?line=9'>10</a>\u001b[0m         ),\n\u001b[1;32m     <a href='vscode-notebook-cell:/Users/toubatbrian/Desktop/langchain/langchain/experimental/client/autoflow.ipynb#W2sZmlsZQ%3D%3D?line=10'>11</a>\u001b[0m         attempt_history\u001b[39m=\u001b[39;49mattempt_history,\n\u001b[1;32m     <a href='vscode-notebook-cell:/Users/toubatbrian/Desktop/langchain/langchain/experimental/client/autoflow.ipynb#W2sZmlsZQ%3D%3D?line=11'>12</a>\u001b[0m         format_instructions\u001b[39m=\u001b[39;49moutput_parser\u001b[39m.\u001b[39;49mget_format_instructions(),\n\u001b[1;32m     <a href='vscode-notebook-cell:/Users/toubatbrian/Desktop/langchain/langchain/experimental/client/autoflow.ipynb#W2sZmlsZQ%3D%3D?line=12'>13</a>\u001b[0m         tools\u001b[39m=\u001b[39;49mtools,\n\u001b[1;32m     <a href='vscode-notebook-cell:/Users/toubatbrian/Desktop/langchain/langchain/experimental/client/autoflow.ipynb#W2sZmlsZQ%3D%3D?line=13'>14</a>\u001b[0m         \u001b[39mlen\u001b[39;49m\u001b[39m=\u001b[39;49m\u001b[39mlen\u001b[39;49m\n\u001b[1;32m     <a href='vscode-notebook-cell:/Users/toubatbrian/Desktop/langchain/langchain/experimental/client/autoflow.ipynb#W2sZmlsZQ%3D%3D?line=14'>15</a>\u001b[0m     )\n\u001b[1;32m     <a href='vscode-notebook-cell:/Users/toubatbrian/Desktop/langchain/langchain/experimental/client/autoflow.ipynb#W2sZmlsZQ%3D%3D?line=16'>17</a>\u001b[0m     \u001b[39mif\u001b[39;00m \u001b[39mnot\u001b[39;00m result[\u001b[39m'\u001b[39m\u001b[39msolvable\u001b[39m\u001b[39m'\u001b[39m]:\n\u001b[1;32m     <a href='vscode-notebook-cell:/Users/toubatbrian/Desktop/langchain/langchain/experimental/client/autoflow.ipynb#W2sZmlsZQ%3D%3D?line=17'>18</a>\u001b[0m         \u001b[39mprint\u001b[39m(\u001b[39m\"\u001b[39m\u001b[39mNot solvable\u001b[39m\u001b[39m\"\u001b[39m)\n",
      "File \u001b[0;32m~/Desktop/langchain/langchain/chains/llm.py:238\u001b[0m, in \u001b[0;36mLLMChain.predict_and_parse\u001b[0;34m(self, callbacks, **kwargs)\u001b[0m\n\u001b[1;32m    236\u001b[0m result \u001b[39m=\u001b[39m \u001b[39mself\u001b[39m\u001b[39m.\u001b[39mpredict(callbacks\u001b[39m=\u001b[39mcallbacks, \u001b[39m*\u001b[39m\u001b[39m*\u001b[39mkwargs)\n\u001b[1;32m    237\u001b[0m \u001b[39mif\u001b[39;00m \u001b[39mself\u001b[39m\u001b[39m.\u001b[39mprompt\u001b[39m.\u001b[39moutput_parser \u001b[39mis\u001b[39;00m \u001b[39mnot\u001b[39;00m \u001b[39mNone\u001b[39;00m:\n\u001b[0;32m--> 238\u001b[0m     \u001b[39mreturn\u001b[39;00m \u001b[39mself\u001b[39;49m\u001b[39m.\u001b[39;49mprompt\u001b[39m.\u001b[39;49moutput_parser\u001b[39m.\u001b[39;49mparse(result)\n\u001b[1;32m    239\u001b[0m \u001b[39melse\u001b[39;00m:\n\u001b[1;32m    240\u001b[0m     \u001b[39mreturn\u001b[39;00m result\n",
      "File \u001b[0;32m~/Desktop/langchain/langchain/experimental/autoflow/schema/parser.py:52\u001b[0m, in \u001b[0;36mFlowSchemaOutputParser.parse\u001b[0;34m(self, text)\u001b[0m\n\u001b[1;32m     49\u001b[0m         \u001b[39mwhile\u001b[39;00m text[r_idx] \u001b[39m!=\u001b[39m \u001b[39m'\u001b[39m\u001b[39m\"\u001b[39m\u001b[39m'\u001b[39m:\n\u001b[1;32m     50\u001b[0m             r_idx \u001b[39m+\u001b[39m\u001b[39m=\u001b[39m \u001b[39m1\u001b[39m\n\u001b[0;32m---> 52\u001b[0m         \u001b[39mreturn\u001b[39;00m \u001b[39mself\u001b[39;49m\u001b[39m.\u001b[39;49mparse(text[:l_idx] \u001b[39m+\u001b[39;49m \u001b[39m'\u001b[39;49m\u001b[39m\\\\\u001b[39;49;00m\u001b[39m\"\u001b[39;49m\u001b[39m'\u001b[39;49m \u001b[39m+\u001b[39;49m\n\u001b[1;32m     53\u001b[0m                           text[l_idx\u001b[39m+\u001b[39;49m\u001b[39m1\u001b[39;49m:r_idx] \u001b[39m+\u001b[39;49m \u001b[39m'\u001b[39;49m\u001b[39m\\\\\u001b[39;49;00m\u001b[39m\"\u001b[39;49m\u001b[39m'\u001b[39;49m \u001b[39m+\u001b[39;49m text[r_idx\u001b[39m+\u001b[39;49m\u001b[39m1\u001b[39;49m:])\n\u001b[1;32m     55\u001b[0m     \u001b[39mraise\u001b[39;00m OutputParserException(\u001b[39mf\u001b[39m\u001b[39m\"\u001b[39m\u001b[39mGot invalid JSON object. Error: \u001b[39m\u001b[39m{\u001b[39;00me\u001b[39m}\u001b[39;00m\u001b[39m\"\u001b[39m)\n\u001b[1;32m     57\u001b[0m \u001b[39mtry\u001b[39;00m:\n",
      "File \u001b[0;32m~/Desktop/langchain/langchain/experimental/autoflow/schema/parser.py:52\u001b[0m, in \u001b[0;36mFlowSchemaOutputParser.parse\u001b[0;34m(self, text)\u001b[0m\n\u001b[1;32m     49\u001b[0m         \u001b[39mwhile\u001b[39;00m text[r_idx] \u001b[39m!=\u001b[39m \u001b[39m'\u001b[39m\u001b[39m\"\u001b[39m\u001b[39m'\u001b[39m:\n\u001b[1;32m     50\u001b[0m             r_idx \u001b[39m+\u001b[39m\u001b[39m=\u001b[39m \u001b[39m1\u001b[39m\n\u001b[0;32m---> 52\u001b[0m         \u001b[39mreturn\u001b[39;00m \u001b[39mself\u001b[39;49m\u001b[39m.\u001b[39;49mparse(text[:l_idx] \u001b[39m+\u001b[39;49m \u001b[39m'\u001b[39;49m\u001b[39m\\\\\u001b[39;49;00m\u001b[39m\"\u001b[39;49m\u001b[39m'\u001b[39;49m \u001b[39m+\u001b[39;49m\n\u001b[1;32m     53\u001b[0m                           text[l_idx\u001b[39m+\u001b[39;49m\u001b[39m1\u001b[39;49m:r_idx] \u001b[39m+\u001b[39;49m \u001b[39m'\u001b[39;49m\u001b[39m\\\\\u001b[39;49;00m\u001b[39m\"\u001b[39;49m\u001b[39m'\u001b[39;49m \u001b[39m+\u001b[39;49m text[r_idx\u001b[39m+\u001b[39;49m\u001b[39m1\u001b[39;49m:])\n\u001b[1;32m     55\u001b[0m     \u001b[39mraise\u001b[39;00m OutputParserException(\u001b[39mf\u001b[39m\u001b[39m\"\u001b[39m\u001b[39mGot invalid JSON object. Error: \u001b[39m\u001b[39m{\u001b[39;00me\u001b[39m}\u001b[39;00m\u001b[39m\"\u001b[39m)\n\u001b[1;32m     57\u001b[0m \u001b[39mtry\u001b[39;00m:\n",
      "File \u001b[0;32m~/Desktop/langchain/langchain/experimental/autoflow/schema/parser.py:55\u001b[0m, in \u001b[0;36mFlowSchemaOutputParser.parse\u001b[0;34m(self, text)\u001b[0m\n\u001b[1;32m     50\u001b[0m             r_idx \u001b[39m+\u001b[39m\u001b[39m=\u001b[39m \u001b[39m1\u001b[39m\n\u001b[1;32m     52\u001b[0m         \u001b[39mreturn\u001b[39;00m \u001b[39mself\u001b[39m\u001b[39m.\u001b[39mparse(text[:l_idx] \u001b[39m+\u001b[39m \u001b[39m'\u001b[39m\u001b[39m\\\\\u001b[39;00m\u001b[39m\"\u001b[39m\u001b[39m'\u001b[39m \u001b[39m+\u001b[39m\n\u001b[1;32m     53\u001b[0m                           text[l_idx\u001b[39m+\u001b[39m\u001b[39m1\u001b[39m:r_idx] \u001b[39m+\u001b[39m \u001b[39m'\u001b[39m\u001b[39m\\\\\u001b[39;00m\u001b[39m\"\u001b[39m\u001b[39m'\u001b[39m \u001b[39m+\u001b[39m text[r_idx\u001b[39m+\u001b[39m\u001b[39m1\u001b[39m:])\n\u001b[0;32m---> 55\u001b[0m     \u001b[39mraise\u001b[39;00m OutputParserException(\u001b[39mf\u001b[39m\u001b[39m\"\u001b[39m\u001b[39mGot invalid JSON object. Error: \u001b[39m\u001b[39m{\u001b[39;00me\u001b[39m}\u001b[39;00m\u001b[39m\"\u001b[39m)\n\u001b[1;32m     57\u001b[0m \u001b[39mtry\u001b[39;00m:\n\u001b[1;32m     58\u001b[0m     schema_obj \u001b[39m=\u001b[39m \u001b[39mself\u001b[39m\u001b[39m.\u001b[39mflow_schema\u001b[39m.\u001b[39mparse(parsed)\n",
      "\u001b[0;31mOutputParserException\u001b[0m: Got invalid JSON object. Error: Unterminated string starting at: line 1 column 575 (char 574)"
     ]
    }
   ],
   "source": [
    "attempt_history = []\n",
    "while True:\n",
    "    try:\n",
    "        result = llm_chain.predict_and_parse(\n",
    "            task=\"Based on input topic, search for relevant information, calculate the length of the information, and write the <info_string>:<char_count> into a file, output file location\",\n",
    "            input_schema=Schema.object(\n",
    "                topic=Schema.string(\"selected topic\")\n",
    "            ),\n",
    "            output_schema=Schema.object(\n",
    "                location=Schema.string(\"file location\")\n",
    "            ),\n",
    "            attempt_history=attempt_history,\n",
    "            format_instructions=output_parser.get_format_instructions(),\n",
    "            tools=tools,\n",
    "            len=len\n",
    "        )\n",
    "    except:\n",
    "        print(result)\n",
    "        break\n",
    "    \n",
    "    if not result['solvable']:\n",
    "        print(\"Not solvable\")\n",
    "        break\n",
    "\n",
    "    if result['plan_score'] >= 6:\n",
    "        break\n",
    "    \n",
    "    attempt_history.append(result)\n",
    "    \n",
    "result"
   ]
  },
  {
   "cell_type": "code",
   "execution_count": null,
   "metadata": {},
   "outputs": [
    {
     "data": {
      "text/plain": [
       "'ca'"
      ]
     },
     "execution_count": 5,
     "metadata": {},
     "output_type": "execute_result"
    }
   ],
   "source": [
    "a = \"\"\"{\n",
    "  \"solvability_thought\": \"The task is to find the capital of a given country. We can use the Search tool to find the capital of the input country.\",\n",
    "  \"solvable\": true,\n",
    "  \"plan\": \"- Use the Search tool with the query \"capital of {country}\"\\n- Extract the capital from the search results\\n- Return the capital as the output\",\n",
    "  \"reflection\": \"The plan is straightforward and should work for most countries. However, there might be cases where the search results are not clear or ambiguous. In such cases, we might need to refine the search query or use a different source of information.\",\n",
    "  \"plan_score\": 8\n",
    "}\"\"\"\n",
    "a[220:222]"
   ]
  },
  {
   "cell_type": "code",
   "execution_count": null,
   "metadata": {},
   "outputs": [
    {
     "name": "stdout",
     "output_type": "stream",
     "text": [
      "{'tool_input': {'type': 'string'}}\n",
      "{'question': {'title': 'Question', 'description': 'The math question to answer.', 'type': 'string'}}\n",
      "{'query': {'title': 'Query', 'type': 'string'}}\n",
      "{'url': {'title': 'Url', 'type': 'string'}}\n",
      "{'commands': {'title': 'Commands', 'description': 'List of shell commands to run. Deserialized using json.loads', 'anyOf': [{'type': 'string'}, {'type': 'array', 'items': {'type': 'string'}}]}}\n"
     ]
    }
   ],
   "source": [
    "for tool in tools:\n",
    "    print(tool.args)"
   ]
  },
  {
   "cell_type": "code",
   "execution_count": null,
   "metadata": {},
   "outputs": [
    {
     "name": "stdout",
     "output_type": "stream",
     "text": [
      "{'solvability_thought': 'The task is to find the capital of a given country. We can use the Search tool to find the capital of the input country.', 'solvable': True, 'plan': '- Use the Search tool with the query \"capital of {country}\"- Extract the capital from the search results- Return the capital as the output', 'reflection': 'The plan is straightforward and should work for most countries. However, there might be cases where the search results are not clear or ambiguous. In such cases, we might need to refine the search query or use a different source of information.', 'plan_score': 8}\n"
     ]
    }
   ],
   "source": [
    "import json\n",
    "\n",
    "text = \"\"\"{  \"solvability_thought\": \"The task is to find the capital of a given country. We can use the Search tool to find the capital of the input country.\",  \"solvable\": true,  \"plan\": \"- Use the Search tool with the query \"capital of {country}\"- Extract the capital from the search results- Return the capital as the output\",  \"reflection\": \"The plan is straightforward and should work for most countries. However, there might be cases where the search results are not clear or ambiguous. In such cases, we might need to refine the search query or use a different source of information.\",  \"plan_score\": 8}\"\"\"\n",
    "\n",
    "try:\n",
    "    json.loads(text)\n",
    "except json.JSONDecodeError as e:\n",
    "    if e.msg.startswith(\"Expecting ',' delimiter\"):\n",
    "        l_idx = e.pos - 1\n",
    "        r_idx = l_idx + 1\n",
    "\n",
    "        while text[r_idx] != '\"':\n",
    "            r_idx += 1\n",
    "\n",
    "        print(json.loads(text[:l_idx] + '\\\\\"' + text[l_idx+1:r_idx] + '\\\\\"' + text[r_idx+1:]))\n",
    "    else:\n",
    "        print(e)"
   ]
  },
  {
   "cell_type": "code",
   "execution_count": null,
   "metadata": {},
   "outputs": [],
   "source": [
    "from typing import Optional, Type, List\n",
    "# Import things that are needed generically\n",
    "from langchain import LLMMathChain, SerpAPIWrapper\n",
    "from langchain.agents import AgentType, initialize_agent\n",
    "from langchain.chat_models import ChatOpenAI\n",
    "from langchain.tools import BaseTool, StructuredTool, Tool, tool\n",
    "from langchain.callbacks.manager import AsyncCallbackManagerForToolRun, CallbackManagerForToolRun\n",
    "from langchain.tools import Tool\n",
    "from pydantic import BaseModel, Field\n",
    "\n",
    "class CalculatorInput(BaseModel):\n",
    "    question: List[str] = Field(description=\"The math question to answer.\")\n",
    "    \n",
    "class CustomSearchTool(BaseTool):\n",
    "    name = \"custom_search\"\n",
    "    description = \"useful for when you need to answer questions about current events\"\n",
    "\n",
    "    def _run(self, query: str, run_manager: Optional[CallbackManagerForToolRun] = None) -> str:\n",
    "        \"\"\"Use the tool.\"\"\"\n",
    "        return search.run(query)\n",
    "    \n",
    "    async def _arun(self, query: str, run_manager: Optional[AsyncCallbackManagerForToolRun] = None) -> str:\n",
    "        \"\"\"Use the tool asynchronously.\"\"\"\n",
    "        raise NotImplementedError(\"custom_search does not support async\")\n",
    "    \n",
    "class CustomCalculatorTool(BaseTool):\n",
    "    name = \"Calculator\"\n",
    "    description = \"useful for when you need to answer questions about math\"\n",
    "    args_schema: Type[BaseModel] = CalculatorInput\n",
    "\n",
    "    def _run(self, query: str, run_manager: Optional[CallbackManagerForToolRun] = None) -> str:\n",
    "        \"\"\"Use the tool.\"\"\"\n",
    "        return llm_math_chain.run(query)\n",
    "    \n",
    "    async def _arun(self, query: str,  run_manager: Optional[AsyncCallbackManagerForToolRun] = None) -> str:\n",
    "        \"\"\"Use the tool asynchronously.\"\"\"\n",
    "        raise NotImplementedError(\"Calculator does not support async\")"
   ]
  },
  {
   "cell_type": "code",
   "execution_count": null,
   "metadata": {},
   "outputs": [
    {
     "data": {
      "text/plain": [
       "{'query': {'title': 'Query', 'type': 'string'}}"
      ]
     },
     "execution_count": 9,
     "metadata": {},
     "output_type": "execute_result"
    }
   ],
   "source": [
    "CustomSearchTool().args"
   ]
  },
  {
   "cell_type": "code",
   "execution_count": null,
   "metadata": {},
   "outputs": [
    {
     "data": {
      "text/plain": [
       "'str'"
      ]
     },
     "execution_count": 10,
     "metadata": {},
     "output_type": "execute_result"
    }
   ],
   "source": [
    "from inspect import signature\n",
    "\n",
    "@tool\n",
    "def f(a) -> List[int]:\n",
    "    \"AAA\"\n",
    "    pass\n",
    "\n",
    "signature(f).return_annotation"
   ]
  },
  {
   "cell_type": "code",
   "execution_count": null,
   "metadata": {},
   "outputs": [],
   "source": []
  }
 ],
 "metadata": {
  "kernelspec": {
   "display_name": "Python 3 (ipykernel)",
   "language": "python",
   "name": "python3"
  },
  "language_info": {
   "codemirror_mode": {
    "name": "ipython",
    "version": 3
   },
   "file_extension": ".py",
   "mimetype": "text/x-python",
   "name": "python",
   "nbconvert_exporter": "python",
   "pygments_lexer": "ipython3",
   "version": "3.10.6"
  },
  "orig_nbformat": 4
 },
 "nbformat": 4,
 "nbformat_minor": 2
}
